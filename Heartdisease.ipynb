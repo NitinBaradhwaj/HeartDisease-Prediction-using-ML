{
 "cells": [
  {
   "cell_type": "code",
   "execution_count": 1,
   "id": "caa069d7",
   "metadata": {},
   "outputs": [],
   "source": [
    "#We follow four steps\n",
    "#Data Loading --> Data Preprocessing and Visualization --> Train Test Split --> Logistic Regression Model\n",
    "#Import Dependencies"
   ]
  },
  {
   "cell_type": "code",
   "execution_count": 98,
   "id": "72d0a711",
   "metadata": {},
   "outputs": [],
   "source": [
    "import numpy as np\n",
    "import pandas as pd\n",
    "import matplotlib.pyplot as plt\n",
    "import seaborn as sns\n",
    "from sklearn.model_selection import train_test_split\n",
    "from sklearn.tree import DecisionTreeClassifier\n",
    "from sklearn.metrics import accuracy_score"
   ]
  },
  {
   "cell_type": "code",
   "execution_count": 61,
   "id": "183a21bf",
   "metadata": {},
   "outputs": [],
   "source": [
    "#Load the dataset \n",
    "heartds=pd.read_csv('~/Desktop/Datasets/heart.csv')"
   ]
  },
  {
   "cell_type": "code",
   "execution_count": 62,
   "id": "97438dc5",
   "metadata": {},
   "outputs": [
    {
     "data": {
      "text/html": [
       "<div>\n",
       "<style scoped>\n",
       "    .dataframe tbody tr th:only-of-type {\n",
       "        vertical-align: middle;\n",
       "    }\n",
       "\n",
       "    .dataframe tbody tr th {\n",
       "        vertical-align: top;\n",
       "    }\n",
       "\n",
       "    .dataframe thead th {\n",
       "        text-align: right;\n",
       "    }\n",
       "</style>\n",
       "<table border=\"1\" class=\"dataframe\">\n",
       "  <thead>\n",
       "    <tr style=\"text-align: right;\">\n",
       "      <th></th>\n",
       "      <th>age</th>\n",
       "      <th>sex</th>\n",
       "      <th>cp</th>\n",
       "      <th>trestbps</th>\n",
       "      <th>chol</th>\n",
       "      <th>fbs</th>\n",
       "      <th>restecg</th>\n",
       "      <th>thalach</th>\n",
       "      <th>exang</th>\n",
       "      <th>oldpeak</th>\n",
       "      <th>slope</th>\n",
       "      <th>ca</th>\n",
       "      <th>thal</th>\n",
       "      <th>target</th>\n",
       "    </tr>\n",
       "  </thead>\n",
       "  <tbody>\n",
       "    <tr>\n",
       "      <th>0</th>\n",
       "      <td>63</td>\n",
       "      <td>1</td>\n",
       "      <td>3</td>\n",
       "      <td>145</td>\n",
       "      <td>233</td>\n",
       "      <td>1</td>\n",
       "      <td>0</td>\n",
       "      <td>150</td>\n",
       "      <td>0</td>\n",
       "      <td>2.3</td>\n",
       "      <td>0</td>\n",
       "      <td>0</td>\n",
       "      <td>1</td>\n",
       "      <td>1</td>\n",
       "    </tr>\n",
       "    <tr>\n",
       "      <th>1</th>\n",
       "      <td>37</td>\n",
       "      <td>1</td>\n",
       "      <td>2</td>\n",
       "      <td>130</td>\n",
       "      <td>250</td>\n",
       "      <td>0</td>\n",
       "      <td>1</td>\n",
       "      <td>187</td>\n",
       "      <td>0</td>\n",
       "      <td>3.5</td>\n",
       "      <td>0</td>\n",
       "      <td>0</td>\n",
       "      <td>2</td>\n",
       "      <td>1</td>\n",
       "    </tr>\n",
       "    <tr>\n",
       "      <th>2</th>\n",
       "      <td>41</td>\n",
       "      <td>0</td>\n",
       "      <td>1</td>\n",
       "      <td>130</td>\n",
       "      <td>204</td>\n",
       "      <td>0</td>\n",
       "      <td>0</td>\n",
       "      <td>172</td>\n",
       "      <td>0</td>\n",
       "      <td>1.4</td>\n",
       "      <td>2</td>\n",
       "      <td>0</td>\n",
       "      <td>2</td>\n",
       "      <td>1</td>\n",
       "    </tr>\n",
       "    <tr>\n",
       "      <th>3</th>\n",
       "      <td>56</td>\n",
       "      <td>1</td>\n",
       "      <td>1</td>\n",
       "      <td>120</td>\n",
       "      <td>236</td>\n",
       "      <td>0</td>\n",
       "      <td>1</td>\n",
       "      <td>178</td>\n",
       "      <td>0</td>\n",
       "      <td>0.8</td>\n",
       "      <td>2</td>\n",
       "      <td>0</td>\n",
       "      <td>2</td>\n",
       "      <td>1</td>\n",
       "    </tr>\n",
       "    <tr>\n",
       "      <th>4</th>\n",
       "      <td>57</td>\n",
       "      <td>0</td>\n",
       "      <td>0</td>\n",
       "      <td>120</td>\n",
       "      <td>354</td>\n",
       "      <td>0</td>\n",
       "      <td>1</td>\n",
       "      <td>163</td>\n",
       "      <td>1</td>\n",
       "      <td>0.6</td>\n",
       "      <td>2</td>\n",
       "      <td>0</td>\n",
       "      <td>2</td>\n",
       "      <td>1</td>\n",
       "    </tr>\n",
       "    <tr>\n",
       "      <th>...</th>\n",
       "      <td>...</td>\n",
       "      <td>...</td>\n",
       "      <td>...</td>\n",
       "      <td>...</td>\n",
       "      <td>...</td>\n",
       "      <td>...</td>\n",
       "      <td>...</td>\n",
       "      <td>...</td>\n",
       "      <td>...</td>\n",
       "      <td>...</td>\n",
       "      <td>...</td>\n",
       "      <td>...</td>\n",
       "      <td>...</td>\n",
       "      <td>...</td>\n",
       "    </tr>\n",
       "    <tr>\n",
       "      <th>299</th>\n",
       "      <td>45</td>\n",
       "      <td>1</td>\n",
       "      <td>3</td>\n",
       "      <td>110</td>\n",
       "      <td>264</td>\n",
       "      <td>0</td>\n",
       "      <td>1</td>\n",
       "      <td>132</td>\n",
       "      <td>0</td>\n",
       "      <td>1.2</td>\n",
       "      <td>1</td>\n",
       "      <td>0</td>\n",
       "      <td>3</td>\n",
       "      <td>0</td>\n",
       "    </tr>\n",
       "    <tr>\n",
       "      <th>300</th>\n",
       "      <td>68</td>\n",
       "      <td>1</td>\n",
       "      <td>0</td>\n",
       "      <td>144</td>\n",
       "      <td>193</td>\n",
       "      <td>1</td>\n",
       "      <td>1</td>\n",
       "      <td>141</td>\n",
       "      <td>0</td>\n",
       "      <td>3.4</td>\n",
       "      <td>1</td>\n",
       "      <td>2</td>\n",
       "      <td>3</td>\n",
       "      <td>0</td>\n",
       "    </tr>\n",
       "    <tr>\n",
       "      <th>301</th>\n",
       "      <td>57</td>\n",
       "      <td>1</td>\n",
       "      <td>0</td>\n",
       "      <td>130</td>\n",
       "      <td>131</td>\n",
       "      <td>0</td>\n",
       "      <td>1</td>\n",
       "      <td>115</td>\n",
       "      <td>1</td>\n",
       "      <td>1.2</td>\n",
       "      <td>1</td>\n",
       "      <td>1</td>\n",
       "      <td>3</td>\n",
       "      <td>0</td>\n",
       "    </tr>\n",
       "    <tr>\n",
       "      <th>302</th>\n",
       "      <td>51</td>\n",
       "      <td>1</td>\n",
       "      <td>0</td>\n",
       "      <td>144</td>\n",
       "      <td>264</td>\n",
       "      <td>0</td>\n",
       "      <td>1</td>\n",
       "      <td>141</td>\n",
       "      <td>1</td>\n",
       "      <td>3.4</td>\n",
       "      <td>1</td>\n",
       "      <td>1</td>\n",
       "      <td>1</td>\n",
       "      <td>1</td>\n",
       "    </tr>\n",
       "    <tr>\n",
       "      <th>303</th>\n",
       "      <td>57</td>\n",
       "      <td>0</td>\n",
       "      <td>1</td>\n",
       "      <td>130</td>\n",
       "      <td>236</td>\n",
       "      <td>0</td>\n",
       "      <td>0</td>\n",
       "      <td>174</td>\n",
       "      <td>0</td>\n",
       "      <td>0.0</td>\n",
       "      <td>1</td>\n",
       "      <td>1</td>\n",
       "      <td>2</td>\n",
       "      <td>0</td>\n",
       "    </tr>\n",
       "  </tbody>\n",
       "</table>\n",
       "<p>304 rows × 14 columns</p>\n",
       "</div>"
      ],
      "text/plain": [
       "     age  sex  cp  trestbps  chol  fbs  restecg  thalach  exang  oldpeak  \\\n",
       "0     63    1   3       145   233    1        0      150      0      2.3   \n",
       "1     37    1   2       130   250    0        1      187      0      3.5   \n",
       "2     41    0   1       130   204    0        0      172      0      1.4   \n",
       "3     56    1   1       120   236    0        1      178      0      0.8   \n",
       "4     57    0   0       120   354    0        1      163      1      0.6   \n",
       "..   ...  ...  ..       ...   ...  ...      ...      ...    ...      ...   \n",
       "299   45    1   3       110   264    0        1      132      0      1.2   \n",
       "300   68    1   0       144   193    1        1      141      0      3.4   \n",
       "301   57    1   0       130   131    0        1      115      1      1.2   \n",
       "302   51    1   0       144   264    0        1      141      1      3.4   \n",
       "303   57    0   1       130   236    0        0      174      0      0.0   \n",
       "\n",
       "     slope  ca  thal  target  \n",
       "0        0   0     1       1  \n",
       "1        0   0     2       1  \n",
       "2        2   0     2       1  \n",
       "3        2   0     2       1  \n",
       "4        2   0     2       1  \n",
       "..     ...  ..   ...     ...  \n",
       "299      1   0     3       0  \n",
       "300      1   2     3       0  \n",
       "301      1   1     3       0  \n",
       "302      1   1     1       1  \n",
       "303      1   1     2       0  \n",
       "\n",
       "[304 rows x 14 columns]"
      ]
     },
     "execution_count": 62,
     "metadata": {},
     "output_type": "execute_result"
    }
   ],
   "source": [
    "#complete dataset is loaded\n",
    "heartds"
   ]
  },
  {
   "cell_type": "code",
   "execution_count": 63,
   "id": "947a1c9d",
   "metadata": {},
   "outputs": [],
   "source": [
    "# target is 0 ---> Healthy Heart, safe no heart disease\n",
    "# target is 1 ---> Defective Heart, means you heart disease "
   ]
  },
  {
   "cell_type": "code",
   "execution_count": 64,
   "id": "c7c2a6ac",
   "metadata": {},
   "outputs": [
    {
     "data": {
      "text/html": [
       "<div>\n",
       "<style scoped>\n",
       "    .dataframe tbody tr th:only-of-type {\n",
       "        vertical-align: middle;\n",
       "    }\n",
       "\n",
       "    .dataframe tbody tr th {\n",
       "        vertical-align: top;\n",
       "    }\n",
       "\n",
       "    .dataframe thead th {\n",
       "        text-align: right;\n",
       "    }\n",
       "</style>\n",
       "<table border=\"1\" class=\"dataframe\">\n",
       "  <thead>\n",
       "    <tr style=\"text-align: right;\">\n",
       "      <th></th>\n",
       "      <th>age</th>\n",
       "      <th>sex</th>\n",
       "      <th>cp</th>\n",
       "      <th>trestbps</th>\n",
       "      <th>chol</th>\n",
       "      <th>fbs</th>\n",
       "      <th>restecg</th>\n",
       "      <th>thalach</th>\n",
       "      <th>exang</th>\n",
       "      <th>oldpeak</th>\n",
       "      <th>slope</th>\n",
       "      <th>ca</th>\n",
       "      <th>thal</th>\n",
       "      <th>target</th>\n",
       "    </tr>\n",
       "  </thead>\n",
       "  <tbody>\n",
       "    <tr>\n",
       "      <th>0</th>\n",
       "      <td>63</td>\n",
       "      <td>1</td>\n",
       "      <td>3</td>\n",
       "      <td>145</td>\n",
       "      <td>233</td>\n",
       "      <td>1</td>\n",
       "      <td>0</td>\n",
       "      <td>150</td>\n",
       "      <td>0</td>\n",
       "      <td>2.3</td>\n",
       "      <td>0</td>\n",
       "      <td>0</td>\n",
       "      <td>1</td>\n",
       "      <td>1</td>\n",
       "    </tr>\n",
       "    <tr>\n",
       "      <th>1</th>\n",
       "      <td>37</td>\n",
       "      <td>1</td>\n",
       "      <td>2</td>\n",
       "      <td>130</td>\n",
       "      <td>250</td>\n",
       "      <td>0</td>\n",
       "      <td>1</td>\n",
       "      <td>187</td>\n",
       "      <td>0</td>\n",
       "      <td>3.5</td>\n",
       "      <td>0</td>\n",
       "      <td>0</td>\n",
       "      <td>2</td>\n",
       "      <td>1</td>\n",
       "    </tr>\n",
       "    <tr>\n",
       "      <th>2</th>\n",
       "      <td>41</td>\n",
       "      <td>0</td>\n",
       "      <td>1</td>\n",
       "      <td>130</td>\n",
       "      <td>204</td>\n",
       "      <td>0</td>\n",
       "      <td>0</td>\n",
       "      <td>172</td>\n",
       "      <td>0</td>\n",
       "      <td>1.4</td>\n",
       "      <td>2</td>\n",
       "      <td>0</td>\n",
       "      <td>2</td>\n",
       "      <td>1</td>\n",
       "    </tr>\n",
       "    <tr>\n",
       "      <th>3</th>\n",
       "      <td>56</td>\n",
       "      <td>1</td>\n",
       "      <td>1</td>\n",
       "      <td>120</td>\n",
       "      <td>236</td>\n",
       "      <td>0</td>\n",
       "      <td>1</td>\n",
       "      <td>178</td>\n",
       "      <td>0</td>\n",
       "      <td>0.8</td>\n",
       "      <td>2</td>\n",
       "      <td>0</td>\n",
       "      <td>2</td>\n",
       "      <td>1</td>\n",
       "    </tr>\n",
       "    <tr>\n",
       "      <th>4</th>\n",
       "      <td>57</td>\n",
       "      <td>0</td>\n",
       "      <td>0</td>\n",
       "      <td>120</td>\n",
       "      <td>354</td>\n",
       "      <td>0</td>\n",
       "      <td>1</td>\n",
       "      <td>163</td>\n",
       "      <td>1</td>\n",
       "      <td>0.6</td>\n",
       "      <td>2</td>\n",
       "      <td>0</td>\n",
       "      <td>2</td>\n",
       "      <td>1</td>\n",
       "    </tr>\n",
       "  </tbody>\n",
       "</table>\n",
       "</div>"
      ],
      "text/plain": [
       "   age  sex  cp  trestbps  chol  fbs  restecg  thalach  exang  oldpeak  slope  \\\n",
       "0   63    1   3       145   233    1        0      150      0      2.3      0   \n",
       "1   37    1   2       130   250    0        1      187      0      3.5      0   \n",
       "2   41    0   1       130   204    0        0      172      0      1.4      2   \n",
       "3   56    1   1       120   236    0        1      178      0      0.8      2   \n",
       "4   57    0   0       120   354    0        1      163      1      0.6      2   \n",
       "\n",
       "   ca  thal  target  \n",
       "0   0     1       1  \n",
       "1   0     2       1  \n",
       "2   0     2       1  \n",
       "3   0     2       1  \n",
       "4   0     2       1  "
      ]
     },
     "execution_count": 64,
     "metadata": {},
     "output_type": "execute_result"
    }
   ],
   "source": [
    "#printing first five rows\n",
    "heartds.head()"
   ]
  },
  {
   "cell_type": "code",
   "execution_count": 65,
   "id": "9495fce4",
   "metadata": {},
   "outputs": [
    {
     "data": {
      "text/html": [
       "<div>\n",
       "<style scoped>\n",
       "    .dataframe tbody tr th:only-of-type {\n",
       "        vertical-align: middle;\n",
       "    }\n",
       "\n",
       "    .dataframe tbody tr th {\n",
       "        vertical-align: top;\n",
       "    }\n",
       "\n",
       "    .dataframe thead th {\n",
       "        text-align: right;\n",
       "    }\n",
       "</style>\n",
       "<table border=\"1\" class=\"dataframe\">\n",
       "  <thead>\n",
       "    <tr style=\"text-align: right;\">\n",
       "      <th></th>\n",
       "      <th>age</th>\n",
       "      <th>sex</th>\n",
       "      <th>cp</th>\n",
       "      <th>trestbps</th>\n",
       "      <th>chol</th>\n",
       "      <th>fbs</th>\n",
       "      <th>restecg</th>\n",
       "      <th>thalach</th>\n",
       "      <th>exang</th>\n",
       "      <th>oldpeak</th>\n",
       "      <th>slope</th>\n",
       "      <th>ca</th>\n",
       "      <th>thal</th>\n",
       "      <th>target</th>\n",
       "    </tr>\n",
       "  </thead>\n",
       "  <tbody>\n",
       "    <tr>\n",
       "      <th>299</th>\n",
       "      <td>45</td>\n",
       "      <td>1</td>\n",
       "      <td>3</td>\n",
       "      <td>110</td>\n",
       "      <td>264</td>\n",
       "      <td>0</td>\n",
       "      <td>1</td>\n",
       "      <td>132</td>\n",
       "      <td>0</td>\n",
       "      <td>1.2</td>\n",
       "      <td>1</td>\n",
       "      <td>0</td>\n",
       "      <td>3</td>\n",
       "      <td>0</td>\n",
       "    </tr>\n",
       "    <tr>\n",
       "      <th>300</th>\n",
       "      <td>68</td>\n",
       "      <td>1</td>\n",
       "      <td>0</td>\n",
       "      <td>144</td>\n",
       "      <td>193</td>\n",
       "      <td>1</td>\n",
       "      <td>1</td>\n",
       "      <td>141</td>\n",
       "      <td>0</td>\n",
       "      <td>3.4</td>\n",
       "      <td>1</td>\n",
       "      <td>2</td>\n",
       "      <td>3</td>\n",
       "      <td>0</td>\n",
       "    </tr>\n",
       "    <tr>\n",
       "      <th>301</th>\n",
       "      <td>57</td>\n",
       "      <td>1</td>\n",
       "      <td>0</td>\n",
       "      <td>130</td>\n",
       "      <td>131</td>\n",
       "      <td>0</td>\n",
       "      <td>1</td>\n",
       "      <td>115</td>\n",
       "      <td>1</td>\n",
       "      <td>1.2</td>\n",
       "      <td>1</td>\n",
       "      <td>1</td>\n",
       "      <td>3</td>\n",
       "      <td>0</td>\n",
       "    </tr>\n",
       "    <tr>\n",
       "      <th>302</th>\n",
       "      <td>51</td>\n",
       "      <td>1</td>\n",
       "      <td>0</td>\n",
       "      <td>144</td>\n",
       "      <td>264</td>\n",
       "      <td>0</td>\n",
       "      <td>1</td>\n",
       "      <td>141</td>\n",
       "      <td>1</td>\n",
       "      <td>3.4</td>\n",
       "      <td>1</td>\n",
       "      <td>1</td>\n",
       "      <td>1</td>\n",
       "      <td>1</td>\n",
       "    </tr>\n",
       "    <tr>\n",
       "      <th>303</th>\n",
       "      <td>57</td>\n",
       "      <td>0</td>\n",
       "      <td>1</td>\n",
       "      <td>130</td>\n",
       "      <td>236</td>\n",
       "      <td>0</td>\n",
       "      <td>0</td>\n",
       "      <td>174</td>\n",
       "      <td>0</td>\n",
       "      <td>0.0</td>\n",
       "      <td>1</td>\n",
       "      <td>1</td>\n",
       "      <td>2</td>\n",
       "      <td>0</td>\n",
       "    </tr>\n",
       "  </tbody>\n",
       "</table>\n",
       "</div>"
      ],
      "text/plain": [
       "     age  sex  cp  trestbps  chol  fbs  restecg  thalach  exang  oldpeak  \\\n",
       "299   45    1   3       110   264    0        1      132      0      1.2   \n",
       "300   68    1   0       144   193    1        1      141      0      3.4   \n",
       "301   57    1   0       130   131    0        1      115      1      1.2   \n",
       "302   51    1   0       144   264    0        1      141      1      3.4   \n",
       "303   57    0   1       130   236    0        0      174      0      0.0   \n",
       "\n",
       "     slope  ca  thal  target  \n",
       "299      1   0     3       0  \n",
       "300      1   2     3       0  \n",
       "301      1   1     3       0  \n",
       "302      1   1     1       1  \n",
       "303      1   1     2       0  "
      ]
     },
     "execution_count": 65,
     "metadata": {},
     "output_type": "execute_result"
    }
   ],
   "source": [
    "#let's check the last five rows also\n",
    "heartds.tail()"
   ]
  },
  {
   "cell_type": "code",
   "execution_count": 66,
   "id": "e221a269",
   "metadata": {},
   "outputs": [
    {
     "data": {
      "text/plain": [
       "(304, 14)"
      ]
     },
     "execution_count": 66,
     "metadata": {},
     "output_type": "execute_result"
    }
   ],
   "source": [
    "#total rows and columns\n",
    "heartds.shape"
   ]
  },
  {
   "cell_type": "code",
   "execution_count": 67,
   "id": "ef74a198",
   "metadata": {},
   "outputs": [
    {
     "name": "stdout",
     "output_type": "stream",
     "text": [
      "<class 'pandas.core.frame.DataFrame'>\n",
      "RangeIndex: 304 entries, 0 to 303\n",
      "Data columns (total 14 columns):\n",
      " #   Column    Non-Null Count  Dtype  \n",
      "---  ------    --------------  -----  \n",
      " 0   age       304 non-null    int64  \n",
      " 1   sex       304 non-null    int64  \n",
      " 2   cp        304 non-null    int64  \n",
      " 3   trestbps  304 non-null    int64  \n",
      " 4   chol      304 non-null    int64  \n",
      " 5   fbs       304 non-null    int64  \n",
      " 6   restecg   304 non-null    int64  \n",
      " 7   thalach   304 non-null    int64  \n",
      " 8   exang     304 non-null    int64  \n",
      " 9   oldpeak   304 non-null    float64\n",
      " 10  slope     304 non-null    int64  \n",
      " 11  ca        304 non-null    int64  \n",
      " 12  thal      304 non-null    int64  \n",
      " 13  target    304 non-null    int64  \n",
      "dtypes: float64(1), int64(13)\n",
      "memory usage: 33.4 KB\n"
     ]
    }
   ],
   "source": [
    "heartds.info()"
   ]
  },
  {
   "cell_type": "code",
   "execution_count": 68,
   "id": "94852cc4",
   "metadata": {},
   "outputs": [
    {
     "data": {
      "text/plain": [
       "target\n",
       "0    138\n",
       "1    166\n",
       "dtype: int64"
      ]
     },
     "execution_count": 68,
     "metadata": {},
     "output_type": "execute_result"
    }
   ],
   "source": [
    "heartds.groupby('target').size()"
   ]
  },
  {
   "cell_type": "code",
   "execution_count": 69,
   "id": "c7d82369",
   "metadata": {},
   "outputs": [
    {
     "data": {
      "text/plain": [
       "1    166\n",
       "0    138\n",
       "Name: target, dtype: int64"
      ]
     },
     "execution_count": 69,
     "metadata": {},
     "output_type": "execute_result"
    }
   ],
   "source": [
    "heartds['target'].value_counts()\n",
    "#the above step and this step both are used to check a column's distribution"
   ]
  },
  {
   "cell_type": "code",
   "execution_count": 70,
   "id": "b8119c5d",
   "metadata": {},
   "outputs": [
    {
     "data": {
      "text/plain": [
       "58    19\n",
       "57    17\n",
       "54    16\n",
       "59    14\n",
       "51    13\n",
       "52    13\n",
       "62    11\n",
       "60    11\n",
       "44    11\n",
       "56    11\n",
       "64    10\n",
       "41    10\n",
       "63     9\n",
       "67     9\n",
       "65     8\n",
       "43     8\n",
       "45     8\n",
       "55     8\n",
       "42     8\n",
       "61     8\n",
       "53     8\n",
       "46     7\n",
       "48     7\n",
       "66     7\n",
       "50     7\n",
       "49     5\n",
       "47     5\n",
       "70     4\n",
       "39     4\n",
       "35     4\n",
       "68     4\n",
       "38     3\n",
       "71     3\n",
       "40     3\n",
       "69     3\n",
       "34     2\n",
       "37     2\n",
       "29     1\n",
       "74     1\n",
       "76     1\n",
       "77     1\n",
       "Name: age, dtype: int64"
      ]
     },
     "execution_count": 70,
     "metadata": {},
     "output_type": "execute_result"
    }
   ],
   "source": [
    "heartds['age'].value_counts()"
   ]
  },
  {
   "cell_type": "code",
   "execution_count": 71,
   "id": "d5f7bda2",
   "metadata": {},
   "outputs": [
    {
     "data": {
      "text/plain": [
       "4256"
      ]
     },
     "execution_count": 71,
     "metadata": {},
     "output_type": "execute_result"
    }
   ],
   "source": [
    "#total size of the dataset\n",
    "heartds.size\n"
   ]
  },
  {
   "cell_type": "code",
   "execution_count": 72,
   "id": "71550990",
   "metadata": {},
   "outputs": [
    {
     "data": {
      "text/html": [
       "<div>\n",
       "<style scoped>\n",
       "    .dataframe tbody tr th:only-of-type {\n",
       "        vertical-align: middle;\n",
       "    }\n",
       "\n",
       "    .dataframe tbody tr th {\n",
       "        vertical-align: top;\n",
       "    }\n",
       "\n",
       "    .dataframe thead th {\n",
       "        text-align: right;\n",
       "    }\n",
       "</style>\n",
       "<table border=\"1\" class=\"dataframe\">\n",
       "  <thead>\n",
       "    <tr style=\"text-align: right;\">\n",
       "      <th></th>\n",
       "      <th>age</th>\n",
       "      <th>sex</th>\n",
       "      <th>cp</th>\n",
       "      <th>trestbps</th>\n",
       "      <th>chol</th>\n",
       "      <th>fbs</th>\n",
       "      <th>restecg</th>\n",
       "      <th>thalach</th>\n",
       "      <th>exang</th>\n",
       "      <th>oldpeak</th>\n",
       "      <th>slope</th>\n",
       "      <th>ca</th>\n",
       "      <th>thal</th>\n",
       "      <th>target</th>\n",
       "    </tr>\n",
       "  </thead>\n",
       "  <tbody>\n",
       "    <tr>\n",
       "      <th>count</th>\n",
       "      <td>304.000000</td>\n",
       "      <td>304.000000</td>\n",
       "      <td>304.000000</td>\n",
       "      <td>304.000000</td>\n",
       "      <td>304.000000</td>\n",
       "      <td>304.000000</td>\n",
       "      <td>304.000000</td>\n",
       "      <td>304.000000</td>\n",
       "      <td>304.000000</td>\n",
       "      <td>304.000000</td>\n",
       "      <td>304.000000</td>\n",
       "      <td>304.000000</td>\n",
       "      <td>304.000000</td>\n",
       "      <td>304.000000</td>\n",
       "    </tr>\n",
       "    <tr>\n",
       "      <th>mean</th>\n",
       "      <td>54.355263</td>\n",
       "      <td>0.684211</td>\n",
       "      <td>0.963816</td>\n",
       "      <td>131.664474</td>\n",
       "      <td>246.322368</td>\n",
       "      <td>0.148026</td>\n",
       "      <td>0.529605</td>\n",
       "      <td>149.618421</td>\n",
       "      <td>0.328947</td>\n",
       "      <td>1.047368</td>\n",
       "      <td>1.398026</td>\n",
       "      <td>0.730263</td>\n",
       "      <td>2.309211</td>\n",
       "      <td>0.546053</td>\n",
       "    </tr>\n",
       "    <tr>\n",
       "      <th>std</th>\n",
       "      <td>9.069157</td>\n",
       "      <td>0.465596</td>\n",
       "      <td>1.031840</td>\n",
       "      <td>17.523560</td>\n",
       "      <td>51.755149</td>\n",
       "      <td>0.355712</td>\n",
       "      <td>0.525688</td>\n",
       "      <td>22.872710</td>\n",
       "      <td>0.470605</td>\n",
       "      <td>1.167036</td>\n",
       "      <td>0.615635</td>\n",
       "      <td>1.021035</td>\n",
       "      <td>0.615890</td>\n",
       "      <td>0.498696</td>\n",
       "    </tr>\n",
       "    <tr>\n",
       "      <th>min</th>\n",
       "      <td>29.000000</td>\n",
       "      <td>0.000000</td>\n",
       "      <td>0.000000</td>\n",
       "      <td>94.000000</td>\n",
       "      <td>126.000000</td>\n",
       "      <td>0.000000</td>\n",
       "      <td>0.000000</td>\n",
       "      <td>71.000000</td>\n",
       "      <td>0.000000</td>\n",
       "      <td>0.000000</td>\n",
       "      <td>0.000000</td>\n",
       "      <td>0.000000</td>\n",
       "      <td>0.000000</td>\n",
       "      <td>0.000000</td>\n",
       "    </tr>\n",
       "    <tr>\n",
       "      <th>25%</th>\n",
       "      <td>47.750000</td>\n",
       "      <td>0.000000</td>\n",
       "      <td>0.000000</td>\n",
       "      <td>120.000000</td>\n",
       "      <td>211.000000</td>\n",
       "      <td>0.000000</td>\n",
       "      <td>0.000000</td>\n",
       "      <td>133.750000</td>\n",
       "      <td>0.000000</td>\n",
       "      <td>0.000000</td>\n",
       "      <td>1.000000</td>\n",
       "      <td>0.000000</td>\n",
       "      <td>2.000000</td>\n",
       "      <td>0.000000</td>\n",
       "    </tr>\n",
       "    <tr>\n",
       "      <th>50%</th>\n",
       "      <td>55.000000</td>\n",
       "      <td>1.000000</td>\n",
       "      <td>1.000000</td>\n",
       "      <td>130.000000</td>\n",
       "      <td>240.500000</td>\n",
       "      <td>0.000000</td>\n",
       "      <td>1.000000</td>\n",
       "      <td>152.500000</td>\n",
       "      <td>0.000000</td>\n",
       "      <td>0.800000</td>\n",
       "      <td>1.000000</td>\n",
       "      <td>0.000000</td>\n",
       "      <td>2.000000</td>\n",
       "      <td>1.000000</td>\n",
       "    </tr>\n",
       "    <tr>\n",
       "      <th>75%</th>\n",
       "      <td>61.000000</td>\n",
       "      <td>1.000000</td>\n",
       "      <td>2.000000</td>\n",
       "      <td>140.000000</td>\n",
       "      <td>274.250000</td>\n",
       "      <td>0.000000</td>\n",
       "      <td>1.000000</td>\n",
       "      <td>166.000000</td>\n",
       "      <td>1.000000</td>\n",
       "      <td>1.600000</td>\n",
       "      <td>2.000000</td>\n",
       "      <td>1.000000</td>\n",
       "      <td>3.000000</td>\n",
       "      <td>1.000000</td>\n",
       "    </tr>\n",
       "    <tr>\n",
       "      <th>max</th>\n",
       "      <td>77.000000</td>\n",
       "      <td>1.000000</td>\n",
       "      <td>3.000000</td>\n",
       "      <td>200.000000</td>\n",
       "      <td>564.000000</td>\n",
       "      <td>1.000000</td>\n",
       "      <td>2.000000</td>\n",
       "      <td>202.000000</td>\n",
       "      <td>1.000000</td>\n",
       "      <td>6.200000</td>\n",
       "      <td>2.000000</td>\n",
       "      <td>4.000000</td>\n",
       "      <td>3.000000</td>\n",
       "      <td>1.000000</td>\n",
       "    </tr>\n",
       "  </tbody>\n",
       "</table>\n",
       "</div>"
      ],
      "text/plain": [
       "              age         sex          cp    trestbps        chol         fbs  \\\n",
       "count  304.000000  304.000000  304.000000  304.000000  304.000000  304.000000   \n",
       "mean    54.355263    0.684211    0.963816  131.664474  246.322368    0.148026   \n",
       "std      9.069157    0.465596    1.031840   17.523560   51.755149    0.355712   \n",
       "min     29.000000    0.000000    0.000000   94.000000  126.000000    0.000000   \n",
       "25%     47.750000    0.000000    0.000000  120.000000  211.000000    0.000000   \n",
       "50%     55.000000    1.000000    1.000000  130.000000  240.500000    0.000000   \n",
       "75%     61.000000    1.000000    2.000000  140.000000  274.250000    0.000000   \n",
       "max     77.000000    1.000000    3.000000  200.000000  564.000000    1.000000   \n",
       "\n",
       "          restecg     thalach       exang     oldpeak       slope          ca  \\\n",
       "count  304.000000  304.000000  304.000000  304.000000  304.000000  304.000000   \n",
       "mean     0.529605  149.618421    0.328947    1.047368    1.398026    0.730263   \n",
       "std      0.525688   22.872710    0.470605    1.167036    0.615635    1.021035   \n",
       "min      0.000000   71.000000    0.000000    0.000000    0.000000    0.000000   \n",
       "25%      0.000000  133.750000    0.000000    0.000000    1.000000    0.000000   \n",
       "50%      1.000000  152.500000    0.000000    0.800000    1.000000    0.000000   \n",
       "75%      1.000000  166.000000    1.000000    1.600000    2.000000    1.000000   \n",
       "max      2.000000  202.000000    1.000000    6.200000    2.000000    4.000000   \n",
       "\n",
       "             thal      target  \n",
       "count  304.000000  304.000000  \n",
       "mean     2.309211    0.546053  \n",
       "std      0.615890    0.498696  \n",
       "min      0.000000    0.000000  \n",
       "25%      2.000000    0.000000  \n",
       "50%      2.000000    1.000000  \n",
       "75%      3.000000    1.000000  \n",
       "max      3.000000    1.000000  "
      ]
     },
     "execution_count": 72,
     "metadata": {},
     "output_type": "execute_result"
    }
   ],
   "source": [
    "#statistics of our dataset\n",
    "heartds.describe()"
   ]
  },
  {
   "cell_type": "code",
   "execution_count": 73,
   "id": "51221482",
   "metadata": {},
   "outputs": [
    {
     "data": {
      "text/plain": [
       "age         0\n",
       "sex         0\n",
       "cp          0\n",
       "trestbps    0\n",
       "chol        0\n",
       "fbs         0\n",
       "restecg     0\n",
       "thalach     0\n",
       "exang       0\n",
       "oldpeak     0\n",
       "slope       0\n",
       "ca          0\n",
       "thal        0\n",
       "target      0\n",
       "dtype: int64"
      ]
     },
     "execution_count": 73,
     "metadata": {},
     "output_type": "execute_result"
    }
   ],
   "source": [
    "#check for null values\n",
    "heartds.isnull().sum()"
   ]
  },
  {
   "cell_type": "code",
   "execution_count": 74,
   "id": "e8e823bd",
   "metadata": {},
   "outputs": [],
   "source": [
    "#There are no null values in our dataset"
   ]
  },
  {
   "cell_type": "code",
   "execution_count": 75,
   "id": "975b3d33",
   "metadata": {},
   "outputs": [],
   "source": [
    "#Data Visualization\n"
   ]
  },
  {
   "cell_type": "code",
   "execution_count": 127,
   "id": "09101657",
   "metadata": {},
   "outputs": [],
   "source": [
    "#Train_Test_split\n",
    "#into X_train,X_test,Y_train,Y_train\n",
    "from sklearn.model_selection import train_test_split\n",
    "from sklearn.preprocessing import StandardScaler"
   ]
  },
  {
   "cell_type": "code",
   "execution_count": 128,
   "id": "1df806e1",
   "metadata": {},
   "outputs": [],
   "source": [
    "sc = StandardScaler()\n",
    "X = sc.fit_transform(X)"
   ]
  },
  {
   "cell_type": "code",
   "execution_count": 129,
   "id": "2bdd3d25",
   "metadata": {},
   "outputs": [
    {
     "data": {
      "text/plain": [
       "0      1\n",
       "1      1\n",
       "2      1\n",
       "3      1\n",
       "4      1\n",
       "      ..\n",
       "299    0\n",
       "300    0\n",
       "301    0\n",
       "302    1\n",
       "303    0\n",
       "Name: target, Length: 304, dtype: int64"
      ]
     },
     "execution_count": 129,
     "metadata": {},
     "output_type": "execute_result"
    }
   ],
   "source": [
    "Y"
   ]
  },
  {
   "cell_type": "code",
   "execution_count": 130,
   "id": "49c2342a",
   "metadata": {},
   "outputs": [
    {
     "data": {
      "text/plain": [
       "array([[ 0.95477345,  0.67936622,  1.97660708, ..., -2.27461441,\n",
       "        -0.71639745, -2.12922532],\n",
       "       [-1.91681306,  0.67936622,  1.00586629, ..., -2.27461441,\n",
       "        -0.71639745, -0.50288236],\n",
       "       [-1.47503052, -1.47196014,  0.03512549, ...,  0.9794222 ,\n",
       "        -0.71639745, -0.50288236],\n",
       "       ...,\n",
       "       [ 0.29209964,  0.67936622, -0.93561531, ..., -0.6475961 ,\n",
       "         0.26461528,  1.1234606 ],\n",
       "       [-0.37057417,  0.67936622, -0.93561531, ..., -0.6475961 ,\n",
       "         0.26461528, -2.12922532],\n",
       "       [ 0.29209964, -1.47196014,  0.03512549, ..., -0.6475961 ,\n",
       "         0.26461528, -0.50288236]])"
      ]
     },
     "execution_count": 130,
     "metadata": {},
     "output_type": "execute_result"
    }
   ],
   "source": [
    "X"
   ]
  },
  {
   "cell_type": "code",
   "execution_count": 131,
   "id": "5cf867aa",
   "metadata": {},
   "outputs": [],
   "source": [
    "#Splitting into train and test data\n",
    "X_train , X_test , Y_train , Y_test = train_test_split(X,Y,random_state=10,test_size=0.3,shuffle=True)\n",
    "#Using random state data is split randomly"
   ]
  },
  {
   "cell_type": "code",
   "execution_count": 132,
   "id": "7b742989",
   "metadata": {},
   "outputs": [
    {
     "data": {
      "text/plain": [
       "array([[-0.70191107,  0.67936622,  0.03512549, ..., -2.27461441,\n",
       "        -0.71639745,  1.1234606 ],\n",
       "       [ 0.40254527,  0.67936622, -0.93561531, ...,  0.9794222 ,\n",
       "        -0.71639745,  1.1234606 ],\n",
       "       [-2.24814996,  0.67936622,  1.97660708, ...,  0.9794222 ,\n",
       "        -0.71639745, -0.50288236],\n",
       "       ...,\n",
       "       [-0.4810198 , -1.47196014,  1.00586629, ..., -0.6475961 ,\n",
       "        -0.71639745, -0.50288236],\n",
       "       [-2.24814996, -1.47196014,  0.03512549, ...,  0.9794222 ,\n",
       "        -0.71639745, -0.50288236],\n",
       "       [ 1.28611035,  0.67936622, -0.93561531, ...,  0.9794222 ,\n",
       "         0.26461528, -0.50288236]])"
      ]
     },
     "execution_count": 132,
     "metadata": {},
     "output_type": "execute_result"
    }
   ],
   "source": [
    "X_train"
   ]
  },
  {
   "cell_type": "code",
   "execution_count": 133,
   "id": "8202b75e",
   "metadata": {},
   "outputs": [
    {
     "data": {
      "text/plain": [
       "171    0\n",
       "202    0\n",
       "58     1\n",
       "154    1\n",
       "75     1\n",
       "      ..\n",
       "156    1\n",
       "123    1\n",
       "15     1\n",
       "125    1\n",
       "265    0\n",
       "Name: target, Length: 212, dtype: int64"
      ]
     },
     "execution_count": 133,
     "metadata": {},
     "output_type": "execute_result"
    }
   ],
   "source": [
    "Y_train"
   ]
  },
  {
   "cell_type": "code",
   "execution_count": 134,
   "id": "5a771a78",
   "metadata": {},
   "outputs": [
    {
     "data": {
      "text/plain": [
       "array([[ 0.51299091,  0.67936622, -0.93561531, ..., -0.6475961 ,\n",
       "         0.26461528,  1.1234606 ],\n",
       "       [ 0.40254527,  0.67936622,  1.00586629, ..., -0.6475961 ,\n",
       "         0.26461528,  1.1234606 ],\n",
       "       [-0.81235671,  0.67936622,  1.00586629, ...,  0.9794222 ,\n",
       "        -0.71639745, -0.50288236],\n",
       "       ...,\n",
       "       [-0.26012853,  0.67936622,  0.03512549, ...,  0.9794222 ,\n",
       "        -0.71639745, -0.50288236],\n",
       "       [ 0.62343654,  0.67936622, -0.93561531, ..., -0.6475961 ,\n",
       "         1.245628  ,  1.1234606 ],\n",
       "       [-0.1496829 , -1.47196014, -0.93561531, ...,  0.9794222 ,\n",
       "        -0.71639745, -0.50288236]])"
      ]
     },
     "execution_count": 134,
     "metadata": {},
     "output_type": "execute_result"
    }
   ],
   "source": [
    "X_test"
   ]
  },
  {
   "cell_type": "code",
   "execution_count": 135,
   "id": "505b8d77",
   "metadata": {},
   "outputs": [
    {
     "data": {
      "text/plain": [
       "206    0\n",
       "183    0\n",
       "230    0\n",
       "126    1\n",
       "184    0\n",
       "      ..\n",
       "21     1\n",
       "211    0\n",
       "78     1\n",
       "174    0\n",
       "49     1\n",
       "Name: target, Length: 92, dtype: int64"
      ]
     },
     "execution_count": 135,
     "metadata": {},
     "output_type": "execute_result"
    }
   ],
   "source": [
    "Y_test"
   ]
  },
  {
   "cell_type": "code",
   "execution_count": 136,
   "id": "52b4ee82",
   "metadata": {},
   "outputs": [
    {
     "data": {
      "text/plain": [
       "((304, 13), (212, 13), (92, 13))"
      ]
     },
     "execution_count": 136,
     "metadata": {},
     "output_type": "execute_result"
    }
   ],
   "source": [
    "#Checking the shape of train and test data\n",
    "X.shape, X_train.shape, X_test.shape"
   ]
  },
  {
   "cell_type": "code",
   "execution_count": 137,
   "id": "edd52d63",
   "metadata": {},
   "outputs": [
    {
     "data": {
      "text/plain": [
       "((304,), (212,), (92,))"
      ]
     },
     "execution_count": 137,
     "metadata": {},
     "output_type": "execute_result"
    }
   ],
   "source": [
    "Y.shape, Y_train.shape, Y_test.shape"
   ]
  },
  {
   "cell_type": "code",
   "execution_count": 138,
   "id": "7aa1b0d1",
   "metadata": {},
   "outputs": [],
   "source": [
    "scores_dict={}"
   ]
  },
  {
   "cell_type": "code",
   "execution_count": 200,
   "id": "eb906406",
   "metadata": {},
   "outputs": [],
   "source": [
    "Catagory=['No....but i pray you get Heart Disease or at leaset Corona Virus Soon...','Yes you have Heart Disease....RIP in Advance']"
   ]
  },
  {
   "cell_type": "code",
   "execution_count": 139,
   "id": "97f98df9",
   "metadata": {},
   "outputs": [],
   "source": [
    "#MODEL TRAINING\n",
    "#USING LOGISTIC REGRESSION"
   ]
  },
  {
   "cell_type": "code",
   "execution_count": 147,
   "id": "c13131eb",
   "metadata": {},
   "outputs": [],
   "source": [
    "#we are going to use logistic regression\n",
    "mymodel = DecisionTreeClassifier()"
   ]
  },
  {
   "cell_type": "code",
   "execution_count": 148,
   "id": "5683fc1e",
   "metadata": {},
   "outputs": [],
   "source": [
    "#training our model with train data"
   ]
  },
  {
   "cell_type": "code",
   "execution_count": 149,
   "id": "f706da14",
   "metadata": {},
   "outputs": [
    {
     "data": {
      "text/plain": [
       "DecisionTreeClassifier()"
      ]
     },
     "execution_count": 149,
     "metadata": {},
     "output_type": "execute_result"
    }
   ],
   "source": [
    "mymodel.fit(X_train, Y_train)"
   ]
  },
  {
   "cell_type": "code",
   "execution_count": 150,
   "id": "4afde169",
   "metadata": {},
   "outputs": [],
   "source": [
    "#evaluationg our model "
   ]
  },
  {
   "cell_type": "code",
   "execution_count": 151,
   "id": "1555b193",
   "metadata": {},
   "outputs": [
    {
     "data": {
      "text/plain": [
       "array([[-0.70191107,  0.67936622,  0.03512549, ..., -2.27461441,\n",
       "        -0.71639745,  1.1234606 ],\n",
       "       [ 0.40254527,  0.67936622, -0.93561531, ...,  0.9794222 ,\n",
       "        -0.71639745,  1.1234606 ],\n",
       "       [-2.24814996,  0.67936622,  1.97660708, ...,  0.9794222 ,\n",
       "        -0.71639745, -0.50288236],\n",
       "       ...,\n",
       "       [-0.4810198 , -1.47196014,  1.00586629, ..., -0.6475961 ,\n",
       "        -0.71639745, -0.50288236],\n",
       "       [-2.24814996, -1.47196014,  0.03512549, ...,  0.9794222 ,\n",
       "        -0.71639745, -0.50288236],\n",
       "       [ 1.28611035,  0.67936622, -0.93561531, ...,  0.9794222 ,\n",
       "         0.26461528, -0.50288236]])"
      ]
     },
     "execution_count": 151,
     "metadata": {},
     "output_type": "execute_result"
    }
   ],
   "source": [
    "X_train"
   ]
  },
  {
   "cell_type": "code",
   "execution_count": 154,
   "id": "066b1043",
   "metadata": {},
   "outputs": [],
   "source": [
    "predicting_output = mymodel.predict(X_test)\n",
    "accuracy_fit=accuracy_score(Y_test,predicting_output)*100"
   ]
  },
  {
   "cell_type": "code",
   "execution_count": 158,
   "id": "73d3ad74",
   "metadata": {},
   "outputs": [
    {
     "name": "stdout",
     "output_type": "stream",
     "text": [
      "Accuracy :  80.43478260869566\n"
     ]
    }
   ],
   "source": [
    "scores_dict['DecisionTreeClassifier'] = accuracy_fit\n",
    "print('Accuracy : ',accuracy_fit)"
   ]
  },
  {
   "cell_type": "code",
   "execution_count": 160,
   "id": "6cd67ba7",
   "metadata": {},
   "outputs": [
    {
     "name": "stdout",
     "output_type": "stream",
     "text": [
      "Accuracy on training set: 1.000\n"
     ]
    }
   ],
   "source": [
    "print(\"Accuracy on training set: {:.3f}\".format(mymodel.score(X_train, Y_train)))\n"
   ]
  },
  {
   "cell_type": "code",
   "execution_count": 161,
   "id": "259c0d0a",
   "metadata": {},
   "outputs": [
    {
     "name": "stdout",
     "output_type": "stream",
     "text": [
      "Accuracy on test set: 0.804\n"
     ]
    }
   ],
   "source": [
    "print(\"Accuracy on test set: {:.3f}\".format(mymodel.score(X_test, Y_test)))"
   ]
  },
  {
   "cell_type": "code",
   "execution_count": 162,
   "id": "451b41e2",
   "metadata": {},
   "outputs": [
    {
     "data": {
      "text/plain": [
       "array([0, 0, 1, 1, 0, 1, 0, 0, 1, 0, 1, 1, 0, 1, 0, 1, 1, 0, 1, 1, 0, 1,\n",
       "       0, 1, 0, 1, 0, 0, 1, 0, 1, 1, 1, 1, 1, 1, 1, 0, 1, 1, 0, 0, 1, 0,\n",
       "       1, 0, 0, 1, 1, 0, 0, 1, 0, 0, 1, 1, 1, 1, 0, 0, 0, 0, 1, 1, 1, 1,\n",
       "       1, 0, 0, 0, 1, 0, 1, 1, 0, 0, 0, 0, 0, 1, 0, 1, 0, 0, 1, 0, 0, 1,\n",
       "       0, 1, 0, 1])"
      ]
     },
     "execution_count": 162,
     "metadata": {},
     "output_type": "execute_result"
    }
   ],
   "source": [
    "predicting_output"
   ]
  },
  {
   "cell_type": "code",
   "execution_count": 201,
   "id": "03757ade",
   "metadata": {},
   "outputs": [],
   "source": [
    "X_DT=np.array([[63 ,1, 3,145,233,1,0,150,0,2.3,0,0,1]])\n",
    "X_DT_predicting_output=mymodel.predict(X_DT)"
   ]
  },
  {
   "cell_type": "code",
   "execution_count": 211,
   "id": "5b5f5898",
   "metadata": {},
   "outputs": [
    {
     "name": "stdout",
     "output_type": "stream",
     "text": [
      "Yes you have Heart Disease....RIP in Advance\n"
     ]
    }
   ],
   "source": [
    "X_DT_predicting_output[0]\n",
    "\n",
    "print(Catagory[int(X_DT_predicting_output[0])])"
   ]
  }
 ],
 "metadata": {
  "kernelspec": {
   "display_name": "Python 3 (ipykernel)",
   "language": "python",
   "name": "python3"
  },
  "language_info": {
   "codemirror_mode": {
    "name": "ipython",
    "version": 3
   },
   "file_extension": ".py",
   "mimetype": "text/x-python",
   "name": "python",
   "nbconvert_exporter": "python",
   "pygments_lexer": "ipython3",
   "version": "3.9.12"
  }
 },
 "nbformat": 4,
 "nbformat_minor": 5
}
